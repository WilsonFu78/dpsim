{
 "cells": [
  {
   "cell_type": "markdown",
   "metadata": {},
   "source": [
    "# SLEW Scenario 2"
   ]
  },
  {
   "cell_type": "code",
   "execution_count": null,
   "metadata": {},
   "outputs": [],
   "source": [
    "from villas.dataprocessing.readtools import *\n",
    "from villas.dataprocessing.timeseries import *\n",
    "import matplotlib.pyplot as plt\n",
    "import re\n",
    "import numpy as np\n",
    "import math\n",
    "import os\n",
    "import subprocess\n",
    "import urllib.request\n",
    "\n",
    "#%matplotlib widget\n",
    "\n",
    "dpsim_path = subprocess.Popen(['git', 'rev-parse', '--show-toplevel'], stdout=subprocess.PIPE).communicate()[0].rstrip().decode('utf-8')\n",
    "\n",
    "path_exec = dpsim_path + '/build/Examples/Cxx/'\n",
    "\n",
    "print(dpsim_path)\n",
    "\n",
    "name='SP_SynGenTrStab_SMIB_Fault_SlewCase2_JsonSyngenParams'\n",
    "name_underdamped_case = 'SP_SynGenTrStab_SMIB_Fault_JsonSyngenParams_Underdamped'\n",
    "name_critically_damped_case = 'SP_SynGenTrStab_SMIB_Fault_JsonSyngenParams_CriticallyDamped'\n",
    "\n",
    "path_json_underdamped = dpsim_path + '/Configs/example_configs_json/SLEW_Case2_Underdamped.json'\n",
    "path_json_critically_damped = dpsim_path + '/Configs/example_configs_json/SLEW_Case2_CriticallyDamped.json'"
   ]
  },
  {
   "cell_type": "markdown",
   "metadata": {},
   "source": [
    "## Run Simulation of Underdamped Case"
   ]
  },
  {
   "cell_type": "code",
   "execution_count": null,
   "metadata": {},
   "outputs": [],
   "source": [
    "sim = subprocess.Popen([path_exec+name, '--params='+path_json_underdamped], stdout=subprocess.PIPE, stderr=subprocess.STDOUT)\n",
    "print(sim.communicate()[0].decode())"
   ]
  },
  {
   "cell_type": "markdown",
   "metadata": {},
   "source": [
    "## Read Results"
   ]
  },
  {
   "cell_type": "code",
   "execution_count": null,
   "metadata": {},
   "outputs": [],
   "source": [
    "work_dir = 'logs/' + name_underdamped_case + '_SP/'\n",
    "ts_dpsim_underdamped = read_timeseries_dpsim(work_dir + name_underdamped_case + '_SP.csv')\n",
    "work_dir"
   ]
  },
  {
   "cell_type": "markdown",
   "metadata": {},
   "source": [
    "## Generator 1&2 Rotor angle $\\delta _r$"
   ]
  },
  {
   "cell_type": "code",
   "execution_count": null,
   "metadata": {},
   "outputs": [],
   "source": [
    "plt.figure(figsize=(16,8))\n",
    "plt.title('Rotor angle', fontsize=20)\n",
    "plt.xlabel('time (s)', fontsize=20)\n",
    "plt.ylabel('angle (deg)', fontsize=20)\n",
    "plt.plot(ts_dpsim_underdamped['delta_r_gen'].interpolate(50e-6).time, (180/3.14)*ts_dpsim_underdamped['delta_r_gen'].interpolate(50e-6).values, label='$\\delta_{r}$')\n",
    "plt.legend()\n",
    "plt.show()"
   ]
  },
  {
   "cell_type": "code",
   "execution_count": null,
   "metadata": {},
   "outputs": [],
   "source": [
    "plt.figure(figsize=(16,8))\n",
    "plt.title('electric power', fontsize=20)\n",
    "plt.xlabel('time (s)', fontsize=20)\n",
    "plt.ylabel('power (W)', fontsize=20)\n",
    "plt.plot(ts_dpsim_underdamped['P_elec'].interpolate(50e-6).time, ts_dpsim_underdamped['P_elec'].interpolate(50e-6).values, label='P_elec')\n",
    "plt.legend()\n",
    "plt.show()"
   ]
  },
  {
   "cell_type": "markdown",
   "metadata": {},
   "source": [
    "## Validate Results"
   ]
  },
  {
   "cell_type": "code",
   "execution_count": null,
   "metadata": {},
   "outputs": [],
   "source": [
    "if not os.path.exists('reference-results'):\n",
    "    os.mkdir('reference-results')\n",
    "\n",
    "url = 'https://git.rwth-aachen.de/acs/public/simulation/reference-results/raw/master/DPsim/SLEWCases/Case2/SP_SynGenTrStab_SMIB_Fault_SlewCase2_Damping_0.0031825_SP.csv'\n",
    "local_file = 'reference-results/SP_SynGenTrStab_SMIB_Fault_SlewCase2_UnderDamping_REF.csv'\n",
    "urllib.request.urlretrieve(url, local_file) \n",
    "\n",
    "ts_dpsim_underdamped_REF = read_timeseries_dpsim(local_file)"
   ]
  },
  {
   "cell_type": "code",
   "execution_count": null,
   "metadata": {},
   "outputs": [],
   "source": [
    "p_elec_diff_underdamped = ts_dpsim_underdamped_REF['P_elec'].rmse(ts_dpsim_underdamped['P_elec'], ts_dpsim_underdamped_REF['P_elec'])\n",
    "delta_diff_underdamped = ts_dpsim_underdamped_REF['delta_r_gen'].rmse(ts_dpsim_underdamped['delta_r_gen'], ts_dpsim_underdamped_REF['delta_r_gen'])\n",
    "print(\"Diff P_elec underdamped: \" + str(p_elec_diff_underdamped))\n",
    "assert(p_elec_diff_underdamped==0)\n",
    "print(\"Diff Delta_r_gen underdamped: \" + str(delta_diff_underdamped))\n",
    "assert(delta_diff_underdamped==0)"
   ]
  },
  {
   "cell_type": "markdown",
   "metadata": {},
   "source": [
    "## Run Simulation of Critically Damped Case"
   ]
  },
  {
   "cell_type": "code",
   "execution_count": null,
   "metadata": {},
   "outputs": [],
   "source": [
    "sim = subprocess.Popen([path_exec+name, '--params='+path_json_critically_damped], stdout=subprocess.PIPE, stderr=subprocess.STDOUT)\n",
    "print(sim.communicate()[0].decode())"
   ]
  },
  {
   "cell_type": "markdown",
   "metadata": {},
   "source": [
    "## Read Results"
   ]
  },
  {
   "cell_type": "code",
   "execution_count": null,
   "metadata": {},
   "outputs": [],
   "source": [
    "work_dir = 'logs/' + name_critically_damped_case + '_SP/'\n",
    "ts_dpsim_critically_damped = read_timeseries_dpsim(work_dir + name_critically_damped_case + '_SP.csv')\n",
    "work_dir"
   ]
  },
  {
   "cell_type": "markdown",
   "metadata": {},
   "source": [
    "## Plot Generator Rotor angle"
   ]
  },
  {
   "cell_type": "code",
   "execution_count": null,
   "metadata": {},
   "outputs": [],
   "source": [
    "plt.figure(figsize=(16,8))\n",
    "plt.title('Rotor angle', fontsize=20)\n",
    "plt.xlabel('time (s)', fontsize=20)\n",
    "plt.ylabel('angle (deg)', fontsize=20)\n",
    "plt.plot(ts_dpsim_critically_damped['delta_r_gen'].time, (180/3.14)*ts_dpsim_critically_damped['delta_r_gen'].values, label='$\\delta_{r}$')\n",
    "plt.legend()\n",
    "plt.show()"
   ]
  },
  {
   "cell_type": "markdown",
   "metadata": {},
   "source": [
    "## Plot Generator Electric Output Power"
   ]
  },
  {
   "cell_type": "code",
   "execution_count": null,
   "metadata": {},
   "outputs": [],
   "source": [
    "plt.figure(figsize=(16,8))\n",
    "plt.title('electric power', fontsize=20)\n",
    "plt.xlabel('time (s)', fontsize=20)\n",
    "plt.ylabel('power (W)', fontsize=20)\n",
    "plt.plot(ts_dpsim_critically_damped['P_elec'].time, ts_dpsim_critically_damped['P_elec'].values, label='P_elec')\n",
    "plt.legend()\n",
    "plt.show()"
   ]
  },
  {
   "cell_type": "markdown",
   "metadata": {},
   "source": [
    "## Validate Results"
   ]
  },
  {
   "cell_type": "code",
   "execution_count": null,
   "metadata": {},
   "outputs": [],
   "source": [
    "if not os.path.exists('reference-results'):\n",
    "    os.mkdir('reference-results')\n",
    "\n",
    "url = 'https://git.rwth-aachen.de/acs/public/simulation/reference-results/raw/master/DPsim/SLEWCases/Case2/SP_SynGenTrStab_SMIB_Fault_SlewCase2_Damping_0.44972_SP.csv'\n",
    "local_file = 'reference-results/SP_SynGenTrStab_SMIB_Fault_SlewCase2_CriticalDamping_REF.csv'\n",
    "urllib.request.urlretrieve(url, local_file) \n",
    "\n",
    "ts_dpsim_critically_damped_REF = read_timeseries_dpsim(local_file)"
   ]
  },
  {
   "cell_type": "code",
   "execution_count": null,
   "metadata": {},
   "outputs": [],
   "source": [
    "p_elec_diff_critically_damped = ts_dpsim_critically_damped_REF['P_elec'].rmse(ts_dpsim_critically_damped['P_elec'], ts_dpsim_critically_damped_REF['P_elec'])\n",
    "delta_diff_critically_damped = ts_dpsim_critically_damped_REF['delta_r_gen'].rmse(ts_dpsim_critically_damped['delta_r_gen'], ts_dpsim_critically_damped_REF['delta_r_gen'])\n",
    "print(\"Diff P_elec critically damped: \" + str(p_elec_diff_critically_damped))\n",
    "assert(p_elec_diff_critically_damped==0)\n",
    "print(\"Diff Delta_r_gen critically damped: \" + str(delta_diff_critically_damped))\n",
    "assert(delta_diff_critically_damped==0)"
   ]
  },
  {
   "cell_type": "code",
   "execution_count": null,
   "metadata": {},
   "outputs": [],
   "source": []
  }
 ],
 "metadata": {
  "kernelspec": {
   "display_name": "Python 3",
   "language": "python",
   "name": "python3"
  },
  "language_info": {
   "codemirror_mode": {
    "name": "ipython",
    "version": 3
   },
   "file_extension": ".py",
   "mimetype": "text/x-python",
   "name": "python",
   "nbconvert_exporter": "python",
   "pygments_lexer": "ipython3",
   "version": "3.7.7"
  },
  "tests": {
   "skip": true
  }
 },
 "nbformat": 4,
 "nbformat_minor": 4
}
